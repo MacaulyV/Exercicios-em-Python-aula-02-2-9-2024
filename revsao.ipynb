{
 "cells": [
  {
   "attachments": {},
   "cell_type": "markdown",
   "metadata": {},
   "source": [
    "1. Manipulação de Dados e Estruturas de Dados\n",
    "2. Trabalhando com Strings e Operações Condicionais\n",
    "3. Controle de Fluxo e Arquivos"
   ]
  },
  {
   "attachments": {},
   "cell_type": "markdown",
   "metadata": {},
   "source": [
    "## Exercício 1: Dicionários e Dados Mutáveis\n",
    "\n",
    "Problema: Dada uma lista de tuplas onde a primeira entrada de cada tupla é um nome de produto e a segunda é a quantidade vendida, escreva um programa que converta essa lista em um dicionário. Se o nome do produto já existir no dicionário, atualize sua quantidade somando a quantidade da tupla. No final, imprima o dicionário de produtos com suas quantidades totais.\n",
    "\n",
    "Exemplo de Entrada: [('maçã', 10), ('banana', 5), ('maçã', 20), ('laranja', 5)]\n",
    "\n",
    "Exemplo de Saída: {'maçã': 30, 'banana': 5, 'laranja': 5}"
   ]
  },
  {
   "cell_type": "code",
   "execution_count": 64,
   "metadata": {},
   "outputs": [
    {
     "name": "stdout",
     "output_type": "stream",
     "text": [
      "{'maçã': 30, 'banana': 5, 'laranja': 5}\n"
     ]
    }
   ],
   "source": [
    "\n",
    "# Primeiro, estou criando uma lista vazia para o dicionário\n",
    "meu_dicionario = {}\n",
    "\n",
    "# Aqui está a lista de produtos\n",
    "lista = [('maçã', 10), ('banana', 5), ('maçã', 20), ('laranja', 5)]\n",
    "\n",
    "# agora vai percorrer cada item na lista\n",
    "for item in lista:\n",
    "    # O produto é a primeira coisa na tupla (item[0])\n",
    "    # A quantidade é a segunda coisa na tupla (item[1])\n",
    "    produto = item[0]\n",
    "    quantidade = item[1]\n",
    "\n",
    "    # Se o produto já está no dicionário, adicionamos a quantidade\n",
    "    # Se não está, adicionamos o produto ao dicionário com a quantidade\n",
    "    if produto in meu_dicionario:\n",
    "        meu_dicionario[produto] = meu_dicionario[produto] + quantidade\n",
    "    else:\n",
    "        meu_dicionario[produto] = quantidade\n",
    "\n",
    "# agora,vai imprimir o dicionário para poder ver o resultado\n",
    "print(meu_dicionario)"
   ]
  },
  {
   "attachments": {},
   "cell_type": "markdown",
   "metadata": {},
   "source": [
    "\n",
    "## Exercício 2: Fatiamento de Strings e Expressões Booleanas\n",
    "\n",
    "Problema: Escreva uma função que receba uma string e retorne True se a string for um palíndromo (ignorando espaços, pontuações e capitalização) e False caso contrário. Utilize fatiamento de strings e expressões booleanas para sua solução.\n",
    "\n",
    "Exemplo de Entrada: \"A man, a plan, a canal: Panama\"\n",
    "\n",
    "Exemplo de Saída: True\n",
    "\n",
    "\n",
    "OBS: Palíndromo é frase ou palavra que se pode ler, indiferentemente, da esquerda para direita ou vice-versa, por exemplo: osso, Ana, radar, Renner, Roma é amor, orava o avaro, socorram-me subi no ônibus em Marrocos"
   ]
  },
  {
   "cell_type": "code",
   "execution_count": 65,
   "metadata": {},
   "outputs": [
    {
     "name": "stdout",
     "output_type": "stream",
     "text": [
      "True\n"
     ]
    }
   ],
   "source": [
    "import re\n",
    "\n",
    "def eh_palindromo(s):\n",
    "    # Removendo todos os caracteres que não são letras e convertendo para minúsculas\n",
    "    s = re.sub('[^A-Za-z]', '', s).lower()\n",
    "    \n",
    "    # Verificando se a string é igual à sua versão invertida\n",
    "    if s == s[::-1]:\n",
    "        return True\n",
    "    else:\n",
    "        return False\n",
    "\n",
    "# Testando a função com o exemplo abaixo:\n",
    "print(eh_palindromo(\"A man, a plan, a canal: Panama\"))  # Deve imprimir: True\n"
   ]
  },
  {
   "attachments": {},
   "cell_type": "markdown",
   "metadata": {},
   "source": [
    "## Exercício 4: break e continue\n",
    "\n",
    "Problema: Escreva um programa que itere sobre números de 1 a 100. Para cada número, se o número for divisível por 3, imprima \"Fizz\". Se for divisível por 5, imprima \"Buzz\". Se for divisível por ambos, imprima \"FizzBuzz\". Use break para terminar o loop se algum número divisível por 3 e 5 for maior que 50. Use continue para pular números ímpares.\n",
    "\n",
    "Exemplo de Saída: 1, 2, Fizz, 4, Buzz, Fizz, ..., Buzz, Fizz, 49, Buzz, FizzBuzz"
   ]
  },
  {
   "cell_type": "code",
   "execution_count": 66,
   "metadata": {},
   "outputs": [
    {
     "name": "stdout",
     "output_type": "stream",
     "text": [
      "2\n",
      "4\n",
      "Fizz\n",
      "8\n",
      "Buzz\n",
      "Fizz\n",
      "14\n",
      "16\n",
      "Fizz\n",
      "Buzz\n",
      "22\n",
      "Fizz\n",
      "26\n",
      "28\n",
      "FizzBuzz\n",
      "32\n",
      "34\n",
      "Fizz\n",
      "38\n",
      "Buzz\n",
      "Fizz\n",
      "44\n",
      "46\n",
      "Fizz\n",
      "Buzz\n",
      "52\n",
      "Fizz\n",
      "56\n",
      "58\n",
      "FizzBuzz\n"
     ]
    }
   ],
   "source": [
    "# Começando o loop de 1 até 100\n",
    "for i in range(1, 101):\n",
    "    # Se o número é ímpar, não faz nada e vai para o próximo número\n",
    "    if i % 2 != 0:\n",
    "        continue\n",
    "\n",
    "    # Se o número é divisível por 3 e 5, imprime \"FizzBuzz\"\n",
    "    if i % 3 == 0 and i % 5 == 0:\n",
    "        print(\"FizzBuzz\")\n",
    "        # Se o número é maior que 50, termina o loop\n",
    "        if i > 50:\n",
    "            break\n",
    "    # Se o número é divisível por 3, imprime \"Fizz\"\n",
    "    elif i % 3 == 0:\n",
    "        print(\"Fizz\")\n",
    "    # Se o número é divisível por 5, imprime \"Buzz\"\n",
    "    elif i % 5 == 0:\n",
    "        print(\"Buzz\")\n",
    "    # Se o número não é divisível nem por 3 nem por 5, imprime o número\n",
    "    else:\n",
    "        print(i)"
   ]
  },
  {
   "attachments": {},
   "cell_type": "markdown",
   "metadata": {},
   "source": [
    "## Exercício 5: Escrevendo em Arquivos\n",
    "\n",
    "Problema: Escreva um programa que gere um arquivo de log. Para cada segundo, o programa deve escrever a hora atual no arquivo de log até que 10 entradas sejam registradas. Use o módulo time para obter a hora atual e faça uma pausa de um segundo entre as entradas usando time.sleep(1).\n",
    "\n",
    "\n",
    "Exemplo de Saída no Arquivo de Log:\n",
    "```\n",
    "09-02-2024 12:00:01\n",
    "09-02-2024 12:00:02\n",
    "09-02-2024 12:00:03\n",
    "...\n",
    "```\n"
   ]
  },
  {
   "cell_type": "code",
   "execution_count": 63,
   "metadata": {},
   "outputs": [],
   "source": [
    "# Importando o módulo time para poder usar as funções de tempo\n",
    "import time\n",
    "\n",
    "# criando um arquivo chamado log.txt para escrever nele\n",
    "with open('log.txt', 'w') as f:\n",
    "    # Vai fazer um loop 10 vezes\n",
    "    for i in range(10):\n",
    "        # Pega a hora atual\n",
    "        agora = time.strftime('%d-%m-%Y %H:%M:%S')\n",
    "        # Escreve a hora atual no arquivo\n",
    "        f.write(agora + '\\n')\n",
    "        # Espera um segundo antes de pegar a próxima hora\n",
    "        time.sleep(1)"
   ]
  },
  {
   "attachments": {},
   "cell_type": "markdown",
   "metadata": {},
   "source": [
    "Escreva uma fução que recebe como parametro duas listas a e b de numeros inteiros. A função deve retornar uma lista contendo os números que são exclusivos para a lista a e para a lista b. Ou seja, a lista retornada não deve conter elementos que estejam presentes em ambas as listas a e b.\n",
    "\n",
    "```\n",
    "#entrada de dados\n",
    "a = [-3, 4, 10, 6, 3, 8, -4, -1]\n",
    "b = [3, 1, 2, -3, 9, 8, -1, -2]\n",
    "\n",
    "\n",
    "# saida esperada\n",
    "[4, 10, 6, -4, 1, 2, 9, -2]\n",
    "\n",
    "\n",
    "```\n"
   ]
  },
  {
   "cell_type": "code",
   "execution_count": 67,
   "metadata": {},
   "outputs": [],
   "source": [
    "# Definindo a função que vai encontrar os números exclusivos\n",
    "def numeros_exclusivos(a, b):\n",
    "    # Criando listas vazias para os números exclusivos\n",
    "    numeros_exclusivos_a = []\n",
    "    numeros_exclusivos_b = []\n",
    "\n",
    "    # Encontrando os números que estão em a mas não em b\n",
    "    for numero in a:\n",
    "        if numero not in b:\n",
    "            numeros_exclusivos_a.append(numero)"
   ]
  },
  {
   "attachments": {},
   "cell_type": "markdown",
   "metadata": {},
   "source": [
    "Para o trecho de código abaixo, faça uma avaliação do código, essa avaliação deve ser realizada sem o uso de ferramentas computacionais. \n",
    "\n",
    "```\n",
    "def busca(valor, lista):\n",
    "    i = 0\n",
    "    while i < len(lista):\n",
    "        if lista[i] == valor:\n",
    "            return True\n",
    "        i = i + 1\n",
    "\n",
    "    return False\n",
    "\n",
    "def interseccao(listaA, listaB):\n",
    "    intersectado = []\n",
    "    for elemento in listaA:\n",
    "        if busca(elemento, listaB) == True:\n",
    "            intersectado.append(elemento)\n",
    "\n",
    "    return intersectado\n",
    "\n",
    "listA = [1, 6, 4, 8, 3]\n",
    "listB = [10, 8, 0, 3, 7]\n",
    "print(interseccao(listA, listB))\n",
    "\n",
    "```\n",
    "\n",
    "Qual a saida esperada? A função busca parece estar procurando um valor específico em uma lista. Ela começa com i = 0 e continua até o final da lista. Se ela encontrar o valor na lista, ela retorna True. Se ela não encontrar o valor, ela retorna False no final.\n",
    "\n",
    "A função interseccao parece estar tentando encontrar a interseção de duas listas, ou seja, os elementos que estão presentes em ambas as listas. Ela cria uma lista vazia chamada intersectado e, em seguida, percorre cada elemento na listaA. Se o elemento também estiver na listaB (ou seja, se busca(elemento, listaB) for True), ela adiciona o elemento à lista intersectado. No final, ela retorna a lista intersectado.\n",
    "\n",
    "As listas listA e listB são definidas no final, e a função interseccao é chamada com essas duas listas como argumentos. O resultado é impresso.\n",
    "\n",
    "Quanto à saída esperada, acredito que seria a lista de números que estão presentes em ambas as listas. Então, talvez algo como [8, 3]? Mas eu não tenho certeza.\n"
   ]
  }
 ],
 "metadata": {
  "kernelspec": {
   "display_name": "Python 3",
   "language": "python",
   "name": "python3"
  },
  "language_info": {
   "codemirror_mode": {
    "name": "ipython",
    "version": 3
   },
   "file_extension": ".py",
   "mimetype": "text/x-python",
   "name": "python",
   "nbconvert_exporter": "python",
   "pygments_lexer": "ipython3",
   "version": "3.11.4"
  }
 },
 "nbformat": 4,
 "nbformat_minor": 2
}
